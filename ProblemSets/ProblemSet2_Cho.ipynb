{
  "nbformat": 4,
  "nbformat_minor": 0,
  "metadata": {
    "colab": {
      "provenance": []
    },
    "kernelspec": {
      "name": "python3",
      "display_name": "Python 3"
    },
    "language_info": {
      "name": "python"
    }
  },
  "cells": [
    {
      "cell_type": "markdown",
      "source": [
        "## Problem Set 2\n",
        "Emma (Sunwoo) Cho"
      ],
      "metadata": {
        "id": "TpDveZkDGBvg"
      }
    },
    {
      "cell_type": "markdown",
      "source": [
        "1. Read through the Standard Library Chapter (located at /CompEcon_Fall25/Python/ACME_StandardLibary.pdf).\n",
        "Complete Problems 1-3."
      ],
      "metadata": {
        "id": "Q3-z_cf2FwKU"
      }
    },
    {
      "cell_type": "markdown",
      "source": [
        "Problem 1"
      ],
      "metadata": {
        "id": "4WyneIZuGj49"
      }
    },
    {
      "cell_type": "code",
      "source": [
        "# problem 1: Write a function that accepts a list L and returns the\n",
        "# min, max, avg of the entries of L (in that order)\n",
        "# Q) Can you implement this function in a single line?\n",
        "\n",
        "import numpy as np\n",
        "L = list(map(float, input(\"Enter the list (e.g. 1,2,3): \").split(',')))\n",
        "basicStats = lambda x: (min(x), max(x), round(float(np.mean(x)),3))\n",
        "print(\"min, max, mean =\", basicStats(L))"
      ],
      "metadata": {
        "colab": {
          "base_uri": "https://localhost:8080/"
        },
        "id": "cVknGPP6JTfk",
        "outputId": "dc8fe92d-9ba4-4b87-8b40-8600c4e9347a"
      },
      "execution_count": 17,
      "outputs": [
        {
          "output_type": "stream",
          "name": "stdout",
          "text": [
            "Enter the list (e.g. 1,2,3): 1,2,3\n",
            "min, max, mean = (1.0, 3.0, 2.0)\n"
          ]
        }
      ]
    },
    {
      "cell_type": "markdown",
      "source": [
        "Problem 2"
      ],
      "metadata": {
        "id": "bpiGW_dKGnsN"
      }
    },
    {
      "cell_type": "code",
      "source": [
        "# (1) int: immutable\n",
        "int1 = 1      # create new int\n",
        "int2 = int1   # assign a new name\n",
        "int2 += 1     # change the new int\n",
        "int1 == int2  # compare two\n",
        "\n",
        "# False: immutable\n",
        "\n",
        "# from below, I omit the explanations(# for each line), just followed the instruction as PS2"
      ],
      "metadata": {
        "colab": {
          "base_uri": "https://localhost:8080/"
        },
        "id": "YO7B_F_JFqbh",
        "outputId": "300aea91-8c9b-4cab-e84d-50b6ff5f7481"
      },
      "execution_count": 10,
      "outputs": [
        {
          "output_type": "execute_result",
          "data": {
            "text/plain": [
              "False"
            ]
          },
          "metadata": {},
          "execution_count": 10
        }
      ]
    },
    {
      "cell_type": "code",
      "source": [
        "# (2) string: immutable\n",
        "str1 = \"one\"\n",
        "str2 = str1\n",
        "str2 += \" two\"\n",
        "str1 == str2\n",
        "\n",
        "# False: immutable"
      ],
      "metadata": {
        "colab": {
          "base_uri": "https://localhost:8080/"
        },
        "id": "e3B3rerhGRaA",
        "outputId": "487a0d37-fbe7-4bb8-9075-f0392a9c477e"
      },
      "execution_count": 12,
      "outputs": [
        {
          "output_type": "execute_result",
          "data": {
            "text/plain": [
              "False"
            ]
          },
          "metadata": {},
          "execution_count": 12
        }
      ]
    },
    {
      "cell_type": "code",
      "source": [
        "# (3) list: mutable\n",
        "list1 = [1, 2, 3, 4, 5]\n",
        "list2 = list1\n",
        "list2.append(6)\n",
        "list1 == list2\n",
        "\n",
        "# True: mutable"
      ],
      "metadata": {
        "colab": {
          "base_uri": "https://localhost:8080/"
        },
        "id": "muub3UcsGTfo",
        "outputId": "975dfc3e-2e42-4474-ae20-5117122ea2f8"
      },
      "execution_count": 13,
      "outputs": [
        {
          "output_type": "execute_result",
          "data": {
            "text/plain": [
              "True"
            ]
          },
          "metadata": {},
          "execution_count": 13
        }
      ]
    },
    {
      "cell_type": "code",
      "source": [
        "# (4) tuple: immutable\n",
        "t1 = (1, 2, 3, 4, 5)\n",
        "t2 = t1\n",
        "t2 += (6,)\n",
        "t1 == t2\n",
        "\n",
        "# False: immutable"
      ],
      "metadata": {
        "colab": {
          "base_uri": "https://localhost:8080/"
        },
        "id": "93ptDrxYGW9y",
        "outputId": "ebd8e85a-25a9-4266-c207-eadf2568c942"
      },
      "execution_count": 14,
      "outputs": [
        {
          "output_type": "execute_result",
          "data": {
            "text/plain": [
              "False"
            ]
          },
          "metadata": {},
          "execution_count": 14
        }
      ]
    },
    {
      "cell_type": "code",
      "source": [
        "# (5) set: mutable\n",
        "set1 = {1, 2, 3, 4, 5}\n",
        "set2 = set1\n",
        "set2.add(6)\n",
        "set1 == set2"
      ],
      "metadata": {
        "colab": {
          "base_uri": "https://localhost:8080/"
        },
        "id": "AKcj4NMVGaaR",
        "outputId": "f2f904df-2fdc-489d-f121-656bf4598da3"
      },
      "execution_count": 15,
      "outputs": [
        {
          "output_type": "execute_result",
          "data": {
            "text/plain": [
              "True"
            ]
          },
          "metadata": {},
          "execution_count": 15
        }
      ]
    },
    {
      "cell_type": "code",
      "source": [
        "# Immutable types: int, str, tuple\n",
        "# Mutable types: list, set, dict"
      ],
      "metadata": {
        "id": "TX-uvKweGcOB"
      },
      "execution_count": 16,
      "outputs": []
    },
    {
      "cell_type": "markdown",
      "source": [
        "Problem 3"
      ],
      "metadata": {
        "id": "1eKhcC62Gtu4"
      }
    },
    {
      "cell_type": "code",
      "source": [
        "%%writefile /content/calculator.py\n",
        "from math import sqrt\n",
        "\n",
        "def add(a, b):\n",
        "    return a + b\n",
        "\n",
        "def multiply(a, b):\n",
        "    return a * b"
      ],
      "metadata": {
        "colab": {
          "base_uri": "https://localhost:8080/"
        },
        "id": "nYByKsKoGuw6",
        "outputId": "b298af3c-eda3-4cdf-ef11-1f703ec325cc"
      },
      "execution_count": 6,
      "outputs": [
        {
          "output_type": "stream",
          "name": "stdout",
          "text": [
            "Writing /content/calculator.py\n"
          ]
        }
      ]
    },
    {
      "cell_type": "code",
      "source": [
        "# test\n",
        "import calculator\n",
        "calculator.add(2, 3), calculator.multiply(4, 5)\n"
      ],
      "metadata": {
        "colab": {
          "base_uri": "https://localhost:8080/"
        },
        "id": "QRXh9XtWHhTv",
        "outputId": "3c3b7eb6-3fae-4b37-fa17-c407d5b87665"
      },
      "execution_count": 7,
      "outputs": [
        {
          "output_type": "execute_result",
          "data": {
            "text/plain": [
              "(5, 20)"
            ]
          },
          "metadata": {},
          "execution_count": 7
        }
      ]
    },
    {
      "cell_type": "code",
      "source": [
        "# solution\n",
        "import calculator\n",
        "\n",
        "def hypotenuse(a, b):\n",
        "    # c = sqrt(a^2 + b^2)\n",
        "    return calculator.sqrt(\n",
        "        calculator.add(calculator.multiply(a, a), calculator.multiply(b, b)))"
      ],
      "metadata": {
        "id": "IUbvOQ2hGzJB"
      },
      "execution_count": 8,
      "outputs": []
    },
    {
      "cell_type": "code",
      "source": [
        "if __name__ == \"__main__\":\n",
        "    print(hypotenuse(3, 4))  # 5.0"
      ],
      "metadata": {
        "colab": {
          "base_uri": "https://localhost:8080/"
        },
        "id": "hx9qa9H0G26T",
        "outputId": "b8c49939-5825-452c-dbf4-578d25f8aab7"
      },
      "execution_count": 9,
      "outputs": [
        {
          "output_type": "stream",
          "name": "stdout",
          "text": [
            "5.0\n"
          ]
        }
      ]
    },
    {
      "cell_type": "markdown",
      "source": [
        "2. Read through the Introduction to Numpy chapter (located at /CompEcon_Fall25/Python/ACME_NumpyIntro.pdf). Complete Problems 1, 2, 5."
      ],
      "metadata": {
        "id": "WCOSeF8AFrpB"
      }
    },
    {
      "cell_type": "code",
      "source": [
        "# problem 1\n",
        "import numpy as np\n",
        "\n",
        "def mat_multi():\n",
        "    A = np.array([[3, -1,  4],\n",
        "                  [1,  5, -9]])\n",
        "    B = np.array([[ 2,  6, -5,  3],\n",
        "                  [ 5, -8,  9,  7],\n",
        "                  [ 9, -3, -2, -3]])\n",
        "    return A @ B\n",
        "    # np.dot(A, B) also possible as in the question stated\n",
        "\n",
        "AB = mat_multi()\n",
        "print(AB)"
      ],
      "metadata": {
        "colab": {
          "base_uri": "https://localhost:8080/"
        },
        "id": "i28QUbUlPkgj",
        "outputId": "6cccb3fd-06b7-414d-9913-cb249beae5cc"
      },
      "execution_count": 19,
      "outputs": [
        {
          "output_type": "stream",
          "name": "stdout",
          "text": [
            "[[ 37  14 -32 -10]\n",
            " [-54  -7  58  65]]\n"
          ]
        }
      ]
    },
    {
      "cell_type": "code",
      "source": [
        "# problem 2\n",
        "import numpy as np\n",
        "\n",
        "def cayley_hamilton_cal():\n",
        "    A = np.array([[ 3, 1, 4],\n",
        "                  [ 1, 5, 9],\n",
        "                  [-5, 3, 1]])\n",
        "    A2 = A @ A\n",
        "    A3 = A2 @ A\n",
        "    return -A3 + 9*A2 - 15*A\n",
        "\n",
        "result = cayley_hamilton_cal()\n",
        "print(result)\n"
      ],
      "metadata": {
        "colab": {
          "base_uri": "https://localhost:8080/"
        },
        "id": "F9qby9JYP_Be",
        "outputId": "3303845a-5cb4-44e8-d839-465f47780a1f"
      },
      "execution_count": 20,
      "outputs": [
        {
          "output_type": "stream",
          "name": "stdout",
          "text": [
            "[[0 0 0]\n",
            " [0 0 0]\n",
            " [0 0 0]]\n"
          ]
        }
      ]
    },
    {
      "cell_type": "code",
      "source": [
        "# problem 5\n",
        "\n",
        "import numpy as np\n",
        "\n",
        "A = np.array([[0, 2, 4],\n",
        "              [1, 3, 5]], dtype=int) # 2×3\n",
        "B = np.array([[3, 0, 0],\n",
        "              [3, 3, 0],\n",
        "              [3, 3, 3]], dtype=int) # 3×3\n",
        "C = np.diag([-2, -2, -2]) # 3×3\n",
        "\n",
        "block_mat = np.block([\n",
        "    [np.zeros((3,3), dtype=int),  A.T, np.eye(3, dtype=int)],\n",
        "    [A, np.zeros((2,2), dtype=int), np.zeros((2,3), dtype=int)],\n",
        "    [B, np.zeros((3,2), dtype=int), C]])\n",
        "\n",
        "print(block_mat.shape)\n",
        "print(block_mat)\n"
      ],
      "metadata": {
        "colab": {
          "base_uri": "https://localhost:8080/"
        },
        "id": "kJ2pDKM9VTSI",
        "outputId": "4fda70c5-2763-4114-a2ab-e45296454542"
      },
      "execution_count": 23,
      "outputs": [
        {
          "output_type": "stream",
          "name": "stdout",
          "text": [
            "(8, 8)\n",
            "[[ 0  0  0  0  1  1  0  0]\n",
            " [ 0  0  0  2  3  0  1  0]\n",
            " [ 0  0  0  4  5  0  0  1]\n",
            " [ 0  2  4  0  0  0  0  0]\n",
            " [ 1  3  5  0  0  0  0  0]\n",
            " [ 3  0  0  0  0 -2  0  0]\n",
            " [ 3  3  0  0  0  0 -2  0]\n",
            " [ 3  3  3  0  0  0  0 -2]]\n"
          ]
        }
      ]
    },
    {
      "cell_type": "markdown",
      "source": [
        "3. Read through the Object Oriented Programming chapter (located at\n",
        "/CompEcon_Fall25/Python/ACME_ObjectOriented.pdf). Complete Problems 1 and 2."
      ],
      "metadata": {
        "id": "txZ4j-duFnFs"
      }
    },
    {
      "cell_type": "code",
      "execution_count": 25,
      "metadata": {
        "colab": {
          "base_uri": "https://localhost:8080/"
        },
        "id": "aUHFguIJE2dx",
        "outputId": "befdd7d1-8fcf-41f3-b792-07a0aee4d980"
      },
      "outputs": [
        {
          "output_type": "stream",
          "name": "stdout",
          "text": [
            "Contents: ['pencil', 'pen', 'paper', 'computer']\n",
            "No Room!\n",
            "If we perform dump - contents: []\n"
          ]
        }
      ],
      "source": [
        "# problem 1\n",
        "class Backpack:\n",
        "    def __init__(self, name: str, color: str, max_size: int=5):\n",
        "        self.name = name\n",
        "        self.color = color\n",
        "        self.max_size = max_size\n",
        "        self.contents = []\n",
        "\n",
        "    def put(self, item):\n",
        "        if len(self.contents) >= self.max_size:\n",
        "            print(\"No Room!\")\n",
        "            return\n",
        "        self.contents.append(item)\n",
        "\n",
        "    def dump(self):\n",
        "        self.contents = []\n",
        "\n",
        "\n",
        "# test function\n",
        "def test_backpack():\n",
        "    testpack = Backpack(\"Barry\", \"black\")  # Instantiate the object.\n",
        "\n",
        "    if testpack.name != \"Barry\": # Test an attribute.\n",
        "        print(\"Backpack.name assigned incorrectly\")\n",
        "\n",
        "    for item in [\"pencil\", \"pen\", \"paper\", \"computer\"]:\n",
        "        testpack.put(item) # Test a method.\n",
        "\n",
        "    print(\"Contents:\", testpack.contents)\n",
        "\n",
        "    while len(testpack.contents) < testpack.max_size:\n",
        "          testpack.put(\"chocolate\")\n",
        "\n",
        "    testpack.put(\"milk\")\n",
        "\n",
        "    # test dump()\n",
        "    testpack.dump()\n",
        "    print(\"If we perform dump - contents:\", testpack.contents)\n",
        "\n",
        "if __name__ == \"__main__\":\n",
        "    test_backpack()\n"
      ]
    },
    {
      "cell_type": "code",
      "source": [
        "# problem 2\n",
        "# assume as Backpack defined as problem 1 as in the above code\n",
        "\n",
        "class Jetpack(Backpack):\n",
        "    def __init__(self, name: str, color: str, max_size: int=2, fuel: int=10):\n",
        "        super().__init__(name, color, max_size)\n",
        "        self.fuel = fuel\n",
        "\n",
        "    def fly(self, burn: int):\n",
        "        if burn > self.fuel:\n",
        "            print(\"Not enough fuel!\")\n",
        "            return\n",
        "        self.fuel -= burn\n",
        "\n",
        "    def dump(self):\n",
        "        super().dump()\n",
        "        self.fuel = 0\n",
        "\n",
        "# test\n",
        "def test_jetpack():\n",
        "    pack = Jetpack(\"cookie\", \"cream\")  # max_size=2, fuel=10 (default setting)\n",
        "\n",
        "    # capacity check from Backpack (Q1):\n",
        "    pack.put(\"banana\")\n",
        "    pack.put(\"juice\")\n",
        "    pack.put(\"coke\")  # extra--> so \"No Room!\"\"\n",
        "\n",
        "    # fly(): normal, burn more fuel than remains\n",
        "    print(\"before:\", pack.fuel)  # 10\n",
        "    pack.fly(3)\n",
        "    print(\"fuel after burn:\", pack.fuel)  # 7\n",
        "    pack.fly(20)\n",
        "    print(\"fuel after burn (burn more fuel than remains):\", pack.fuel)  # still 7\n",
        "\n",
        "    # test dump(): clearing both contents and fuel\n",
        "    pack.dump()\n",
        "    print(\"After dump -> contents:\", pack.contents, \"fuel:\", pack.fuel)\n",
        "\n",
        "if __name__ == \"__main__\":\n",
        "    test_jetpack()"
      ],
      "metadata": {
        "colab": {
          "base_uri": "https://localhost:8080/"
        },
        "id": "IcflU_V9FbMI",
        "outputId": "cf6221d7-508a-4a32-be7a-42b0669b1b79"
      },
      "execution_count": 26,
      "outputs": [
        {
          "output_type": "stream",
          "name": "stdout",
          "text": [
            "No Room!\n",
            "before: 10\n",
            "fuel after burn: 7\n",
            "Not enough fuel!\n",
            "fuel after burn (burn more fuel than remains): 7\n",
            "After dump -> contents: [] fuel: 0\n"
          ]
        }
      ]
    }
  ]
}